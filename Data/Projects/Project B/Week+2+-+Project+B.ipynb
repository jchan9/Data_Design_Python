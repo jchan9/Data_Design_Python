{
 "cells": [
  {
   "cell_type": "markdown",
   "metadata": {},
   "source": [
    "# Joann Chan"
   ]
  },
  {
   "cell_type": "markdown",
   "metadata": {},
   "source": [
    "______"
   ]
  },
  {
   "cell_type": "markdown",
   "metadata": {},
   "source": [
    "## Project B"
   ]
  },
  {
   "cell_type": "markdown",
   "metadata": {},
   "source": [
    "**We will be taking a look at the\n",
    "[*62 Amazing Facts You Probably Didn't Know That Will Blow Your Mind*](https://www.buzzfeed.com/readcommentbackwards/62-amazing-fact-you-probably-didnt-know-that-will-dmjk?utm_term=.cfpEWdn4R#.ktYgO5XAL) article from Buzzfeed.**"
   ]
  },
  {
   "cell_type": "markdown",
   "metadata": {},
   "source": [
    "_______"
   ]
  },
  {
   "cell_type": "code",
   "execution_count": 1,
   "metadata": {
    "collapsed": true
   },
   "outputs": [],
   "source": [
    "import requests\n",
    "top = requests.get('https://www.buzzfeed.com/readcommentbackwards/62-amazing-fact-you-probably-didnt-know-that-will-dmjk?utm_term=.cfpEWdn4R#.ktYgO5XAL')"
   ]
  },
  {
   "cell_type": "code",
   "execution_count": 2,
   "metadata": {},
   "outputs": [
    {
     "name": "stdout",
     "output_type": "stream",
     "text": [
      "<!DOCTYPE html>\n",
      "<html lang=\"en\" class=\"core-ux\" data-app='bpager' data-env=prod>\n",
      "    <head>\n",
      "        \n"
     ]
    }
   ],
   "source": [
    "print(top.text[:100])"
   ]
  },
  {
   "cell_type": "code",
   "execution_count": 3,
   "metadata": {
    "collapsed": true
   },
   "outputs": [],
   "source": [
    "from bs4 import BeautifulSoup\n",
    "soup = BeautifulSoup(top.text, 'html.parser')"
   ]
  },
  {
   "cell_type": "markdown",
   "metadata": {},
   "source": []
  },
  {
   "cell_type": "markdown",
   "metadata": {},
   "source": [
    "**Let's start by tracking down the data we want from the website, the 62 facts**\n",
    "\n",
    "**Let's take a look at the first interesting fact:**\n",
    "> ***The bushes and clouds in Super Mario Bros are the same, just colored differently.***\n",
    "\n",
    "**You want to copy this fact for what we are about to do next**\n",
    "\n",
    "**Right-click on the webpage and scroll to the bottom to select:**\n",
    ">***View Page Source*** \n",
    "\n",
    "**This should take you to the article's view-source page, which holds all the codes that make up that webpage**\n",
    "\n",
    "**Now, on the view-source page, press *Ctrl + F***\n",
    "\n",
    "**The *Find* toolbar should pop up**\n",
    "\n",
    "**Now, remember when we copied that interesting fact?**\n",
    "\n",
    "**Paste that fact into the *Find* toolbar**\n",
    "\n",
    "**What we should get is the line of code that writes up that first interesting fact:**\n",
    "> $<span class=\"js-subbuzz__title-text\">The bushes and clouds in Super Mario Bros are the same, just colored differently.</span>$\n",
    ">>**Also, take note of which line this code is written on because we will need to use this information later on.**\n",
    "\n",
    ">>>**We will need to look at the left side of the screen where we see numbers going down in order on a vertical grey bar.**\n",
    "\n",
    ">>>**We see that the code to writeup the first interesting fact is on line 1638**\n",
    "\n",
    "**Now back to the code itself**\n",
    "\n",
    "**Notice that the codes surrounding the text are:**\n",
    "> ***$<span class=\"js-subbuzz__title-text\">$  and  $</span>$***\n",
    ">> **When we copy and paste other facts into the *Find* toolbar to find them in the view-source page, we will see that they all are surrounded with the same code, therefore we can conclude that all 62 interesting facts will be surrounded by $<span class=\"js-subbuzz__title-text\">$  and  $</span>$**\n",
    "\n",
    "**This allows us to write up the following code:**\n",
    "> ***facts = soup.find_all('span')***\n",
    ">> **This is essentially saying to set the word *\"facts\"* equal to finding all the texts that are surrounded by the code $<span>$**"
   ]
  },
  {
   "cell_type": "markdown",
   "metadata": {},
   "source": [
    "____"
   ]
  },
  {
   "cell_type": "markdown",
   "metadata": {},
   "source": [
    "**I REALIZED THAT THE CODE I USED:**\n",
    "\n",
    "> ***facts = soup.find_all('span')***\n",
    "\n",
    "**GAVE ME TOO LARGE OF A RANGE OF CODES FOR ONLY 62 FACTS SO I WENT BACK INTO VIEW PAGE SOURCE AND REALIZED A BETTER SOLUTION TO FINDING THE FACTS, BUT I AM JUST GOING TO LEAVE EVERYTHING I DID WITH THIS CODE BELOW SO THAT I CAN REFER TO IT IN THE FUTURE IF I NEED IT. SORRY!**\n",
    "\n",
    "**I AM GOING TO PUT *h3* INTO *facts = soup.find_all('')* BECAUSE THIS WILL ACTUALLY GIVE ME ALL THE FACTS WITHOUT ANY EXTRA INFORMATION**\n"
   ]
  },
  {
   "cell_type": "markdown",
   "metadata": {},
   "source": [
    "**IF YOU WANT TO SKIP PAST TO WHERE I USE *h3* INSTEAD OF *span***\n",
    "# [PRESS HERE](#using-h3)"
   ]
  },
  {
   "cell_type": "markdown",
   "metadata": {},
   "source": [
    "_____"
   ]
  },
  {
   "cell_type": "code",
   "execution_count": 4,
   "metadata": {
    "collapsed": true
   },
   "outputs": [],
   "source": [
    "facts = soup.find_all('span')"
   ]
  },
  {
   "cell_type": "code",
   "execution_count": 5,
   "metadata": {},
   "outputs": [
    {
     "data": {
      "text/plain": [
       "1131"
      ]
     },
     "execution_count": 5,
     "metadata": {},
     "output_type": "execute_result"
    }
   ],
   "source": [
    "len(facts)"
   ]
  },
  {
   "cell_type": "markdown",
   "metadata": {},
   "source": [
    "**We can see that there are 1131 facts, but we know that there should only be 62.**\n",
    "\n",
    "**The reason why this number is larger than it should be is due to the fact that there are other texts, not just the interesting facts, that are surrounded by the same code of $<span>$**\n",
    "\n",
    "**If we type in $</span>$ into the *Find* toolbar, we can find all the texts that end with that code, which should allow us to see where Interesting Fact 1 starts**\n",
    "> **Remember when I told you to find which line the first interesting fact was written on? Line 1638?**\n",
    "\n",
    ">**Well, now we need to find that line again because we typed in a new search into the *Find* toolbar, which takes us away from were we need to be**\n",
    "\n",
    ">**What we do is scroll through the page, looking at that vertical grey bar, and find the number 1638, which should bring us back to the first interesting fact**\n",
    "\n",
    ">>**You might be wondering why we need to go through all these steps when we were already at the first fact.**\n",
    "\n",
    ">>**Well, we need to do this because we want to find which number, out of the 1131 codes, is the first of the interesting facts.**\n",
    "\n",
    ">>**The great thing with the *Find* toolbar is that it tells us which $</Span>$ we are at out of all 1131 options.**\n",
    "\n",
    ">>**The only problem is that we may have lost our place and we can't navigate our way back to the $</Span>$ that has our first interesting fact, which is why we needed to know which line of code it was written on.**\n",
    "\n",
    ">>**The only other way to do this would be to guess and check, which is too tedious.**\n",
    "\n",
    ">**We can see that, out of the 1131 codes, the first interesting fact is actually the 37th code**\n",
    "\n",
    ">**Let's check to be sure by writing a code**\n",
    "\n"
   ]
  },
  {
   "cell_type": "code",
   "execution_count": 6,
   "metadata": {},
   "outputs": [
    {
     "data": {
      "text/plain": [
       "<span class=\"icon icon--primary\">\n",
       "<svg>\n",
       "<title>Share On facebook</title>\n",
       "      Share On facebook \n",
       "      <use xlink:href=\"#facebook\"></use>\n",
       "</svg>\n",
       "</span>"
      ]
     },
     "execution_count": 6,
     "metadata": {},
     "output_type": "execute_result"
    }
   ],
   "source": [
    "facts[37]"
   ]
  },
  {
   "cell_type": "markdown",
   "metadata": {},
   "source": [
    "**This doesn't seem to be the correct text, so lets try a number close to 37, like 36**"
   ]
  },
  {
   "cell_type": "code",
   "execution_count": 7,
   "metadata": {},
   "outputs": [
    {
     "data": {
      "text/plain": [
       "<span class=\"js-subbuzz__title-text\">The bushes and clouds in Super Mario Bros are the same, just colored differently.</span>"
      ]
     },
     "execution_count": 7,
     "metadata": {},
     "output_type": "execute_result"
    }
   ],
   "source": [
    "facts[36]"
   ]
  },
  {
   "cell_type": "markdown",
   "metadata": {},
   "source": [
    "**Is this the correct code we were looking for? YES!**\n",
    "\n",
    "**Now let's try to remove the code surrounding the text so that we would only see the fact**"
   ]
  },
  {
   "cell_type": "code",
   "execution_count": 8,
   "metadata": {},
   "outputs": [
    {
     "data": {
      "text/plain": [
       "'The bushes and clouds in Super Mario Bros are the same, just colored differently.'"
      ]
     },
     "execution_count": 8,
     "metadata": {},
     "output_type": "execute_result"
    }
   ],
   "source": [
    "facts[36].text"
   ]
  },
  {
   "cell_type": "markdown",
   "metadata": {},
   "source": [
    "**Did we get the text by itself? We sure did!**\n",
    "\n",
    "**Ok, so we found the first fact, but we want to find all 62. So, let's go back to the view source page and locate the last code using the same method we used to find fact 1**\n",
    "\n",
    "**We know that the fact is:**\n",
    ">**A banana is actually a berry. A strawberry isn't.**\n",
    "\n",
    "**And the code we found was:**\n",
    ">$ <span class=\"js-subbuzz__title-text\">A banana is actually a berry. A strawberry isn&#39;t.</span>$\n",
    "\n",
    "**Which is on line 21326**\n",
    "\n",
    "**Which is #1074 of the 1131 codes**"
   ]
  },
  {
   "cell_type": "code",
   "execution_count": 9,
   "metadata": {},
   "outputs": [
    {
     "data": {
      "text/plain": [
       "\"A banana is actually a berry. A strawberry isn't.\""
      ]
     },
     "execution_count": 9,
     "metadata": {},
     "output_type": "execute_result"
    }
   ],
   "source": [
    "facts[1073].text"
   ]
  },
  {
   "cell_type": "markdown",
   "metadata": {},
   "source": [
    "**Again, we were 1 number off from the actual code**\n",
    "\n",
    "**But, now we know that the facts lay somewhere on and between 36 to 1073**"
   ]
  },
  {
   "cell_type": "code",
   "execution_count": 10,
   "metadata": {
    "collapsed": true
   },
   "outputs": [],
   "source": [
    "facts = facts[36:1073]"
   ]
  },
  {
   "cell_type": "markdown",
   "metadata": {},
   "source": [
    "_____"
   ]
  },
  {
   "cell_type": "markdown",
   "metadata": {},
   "source": [
    "# Using h3 <a id=\"using-h3\"></a>"
   ]
  },
  {
   "cell_type": "markdown",
   "metadata": {},
   "source": [
    "_________"
   ]
  },
  {
   "cell_type": "code",
   "execution_count": 11,
   "metadata": {
    "collapsed": true
   },
   "outputs": [],
   "source": [
    "facts = soup.find_all('h3')"
   ]
  },
  {
   "cell_type": "code",
   "execution_count": 12,
   "metadata": {},
   "outputs": [
    {
     "data": {
      "text/plain": [
       "63"
      ]
     },
     "execution_count": 12,
     "metadata": {},
     "output_type": "execute_result"
    }
   ],
   "source": [
    "len(facts)"
   ]
  },
  {
   "cell_type": "markdown",
   "metadata": {},
   "source": [
    "**We can see that this is a much closer to 62 than 1131**\n",
    "\n",
    "**We are essentially going to do everything the same as before, but omitting any unnecessary steps that we may have taken before**"
   ]
  },
  {
   "cell_type": "code",
   "execution_count": 13,
   "metadata": {},
   "outputs": [
    {
     "data": {
      "text/plain": [
       "<h3 class=\"subbuzz__title xs-mb1 bold\">\n",
       "<span class=\"subbuzz__number\">1.</span>\n",
       "<span class=\"js-subbuzz__title-text\">The bushes and clouds in Super Mario Bros are the same, just colored differently.</span>\n",
       "</h3>"
      ]
     },
     "execution_count": 13,
     "metadata": {},
     "output_type": "execute_result"
    }
   ],
   "source": [
    "facts[0]"
   ]
  },
  {
   "cell_type": "code",
   "execution_count": 14,
   "metadata": {},
   "outputs": [
    {
     "data": {
      "text/plain": [
       "'\\n1.\\nThe bushes and clouds in Super Mario Bros are the same, just colored differently.\\n'"
      ]
     },
     "execution_count": 14,
     "metadata": {},
     "output_type": "execute_result"
    }
   ],
   "source": [
    "facts[0].text"
   ]
  },
  {
   "cell_type": "markdown",
   "metadata": {},
   "source": [
    "**We see that 0 is were we get out first interesting fact**\n",
    "\n",
    "**Lets try to see where we can get our last fact**"
   ]
  },
  {
   "cell_type": "code",
   "execution_count": 15,
   "metadata": {},
   "outputs": [
    {
     "data": {
      "text/plain": [
       "\"\\n62.\\nA banana is actually a berry. A strawberry isn't.\\n\""
      ]
     },
     "execution_count": 15,
     "metadata": {},
     "output_type": "execute_result"
    }
   ],
   "source": [
    "facts[61].text"
   ]
  },
  {
   "cell_type": "markdown",
   "metadata": {},
   "source": [
    "**YES! This is our last fact, so we know that the facts are from 0 to 61.**"
   ]
  },
  {
   "cell_type": "code",
   "execution_count": 16,
   "metadata": {
    "collapsed": true
   },
   "outputs": [],
   "source": [
    "facts = facts[0:62]"
   ]
  },
  {
   "cell_type": "markdown",
   "metadata": {},
   "source": [
    "**We put 62 instead of 61 because this code will omit the last number**"
   ]
  },
  {
   "cell_type": "markdown",
   "metadata": {},
   "source": [
    "# Creating a Table for the Facts"
   ]
  },
  {
   "cell_type": "markdown",
   "metadata": {},
   "source": [
    "____"
   ]
  },
  {
   "cell_type": "code",
   "execution_count": 17,
   "metadata": {
    "collapsed": true
   },
   "outputs": [],
   "source": [
    "table = []\n",
    "for i in facts:\n",
    "    fact = i.text\n",
    "    table.append(fact)"
   ]
  },
  {
   "cell_type": "code",
   "execution_count": 18,
   "metadata": {},
   "outputs": [
    {
     "data": {
      "text/plain": [
       "62"
      ]
     },
     "execution_count": 18,
     "metadata": {},
     "output_type": "execute_result"
    }
   ],
   "source": [
    "len(table)"
   ]
  },
  {
   "cell_type": "code",
   "execution_count": 19,
   "metadata": {},
   "outputs": [
    {
     "data": {
      "text/plain": [
       "['\\n1.\\nThe bushes and clouds in Super Mario Bros are the same, just colored differently.\\n',\n",
       " '\\n2.\\nThere are warehouses so big they have their own WEATHER.\\n',\n",
       " '\\n3.\\nIn 1903 the Wright brothers flew for 59 seconds. 38 years later the Japanese bombed Pearl Harbor. 28 years after that, we landed on the moon.\\n',\n",
       " '\\n4.\\nWhen a male bee climaxes, their testicles explode then they die.\\n',\n",
       " '\\n5.\\nCleopatra lived closer in time to the first Moon landing than to the building of the Great Pyramid.\\n',\n",
       " '\\n6.\\nDuck Hunt is two player. A controller in port 2 controls the ducks.\\n',\n",
       " '\\n7.\\nThere are more fake flamingos in the world than real flamingos.\\n',\n",
       " '\\n8.\\nThe adult human has two to nine pounds of bacteria in his or her body.\\n',\n",
       " '\\n9.\\nBlue whales heart is the size of a VW Beetle and that you could swim through some of its arteries.\\n',\n",
       " '\\n10.\\nHydrogen is a light, odorless gas, which, given enough time, turns into people.\\n',\n",
       " '\\n11.\\nAll of the gold mined in the history of the world would more or less fit into a 20x20x20 meter cube.\\n',\n",
       " '\\n12.\\nThere are more atoms in a single glass of water, than glasses of water in all the oceans of the Earth.\\n',\n",
       " '\\n13.\\nHalf of all humans who have ever lived, died from malaria.\\n',\n",
       " \"\\n14.\\nMartin Sheen's original name was Ramon Estevez. He had two sons, Emilio and Carlos. Emilio kept the Estevez, but Carlos changed his name to Charlie Sheen. He changed his stage name to ride the coattails of his father's changed stage name.\\n\",\n",
       " '\\n15.\\nAlcohol is considered a performance-enhancing drug in competitive shooting competitions.\\n',\n",
       " '\\n16.\\nOnce Charlie Chaplin entered a contest for \"Charlie Chaplin look-alikes\" and he came in third.\\n',\n",
       " '\\n17.\\nIf you shuffle a deck of cards, chances are that the new order of playing cards has never existed before.\\n',\n",
       " '\\n18.\\nOf all the people in history that have reached 65 years of age, half of them are living right now.\\n',\n",
       " '\\n19.\\nFold over a piece of paper 42 times and it will reach the moon\\n',\n",
       " '\\n20.\\nPirates wear eye patches so that they can see in the dark.\\n',\n",
       " '\\n21.\\nIt took thousands of years after domesticating the horse to invent the stirrup.\\n',\n",
       " '\\n22.\\n54 million people alive right now will be dead within 12 months.\\n',\n",
       " '\\n23.\\nYou replace every particle in your body every seven years. You are literally not the same person you were 7 years ago.\\n',\n",
       " '\\n24.\\nWhen your mother was born, she was already carrying the egg that would become you.\\n',\n",
       " '\\n25.\\nA tree is the opposite of your lungs. Physically and functionally.\\n',\n",
       " '\\n26.\\nMayonnaise is made from oil and eggs.\\n',\n",
       " '\\n27.\\nThe sun is 400x further from the earth than the moon, but the moon is 400x smaller than the sun.\\n',\n",
       " '\\n28.\\nAll the humans on the planet could fit into 1 cubic mile.\\n',\n",
       " '\\n29.\\nGoats have rectangular pupils.\\n',\n",
       " '\\n30.\\nIf there was no space between any of its atoms, Earth would be the size of a baseball.\\n',\n",
       " \"\\n31.\\nIf you put all the earth's ants in one pile, and all the earth's humans in another pile, the pile made of ants would be bigger (have more mass).\\n\",\n",
       " \"\\n32.\\nYou're not stuck in traffic, you are traffic.\\n\",\n",
       " '\\n33.\\nSloths mistakenly grab their arms instead of the branches of a tree, and they fall to their deaths.\\n',\n",
       " '\\n34.\\nPenguins will give their mate a pebble as a way of proposing.\\n',\n",
       " '\\n35.\\nButterflies are cannibals.\\n',\n",
       " '\\n36.\\nTurtles can breathe out of their butts\\n',\n",
       " '\\n37.\\nA small percentage of static on televisions is actually radioactive resonance from the big bang 13 billion years ago.\\n',\n",
       " \"\\n38.\\nIt takes a photon, on average, 200,000 years to travel from the core of the Sun to the surface, then just a little over 8 minutes from the Sun's surface to your eyeball\\n\",\n",
       " \"\\n39.\\nBoth of Jack Black's parents were rocket scientists.\\n\",\n",
       " '\\n40.\\nA pigs orgasm lasts 30 minutes.\\n',\n",
       " '\\n41.\\nVelociraptors were just slightly bigger than chickens.\\n',\n",
       " '\\n42.\\nA pencil has the potential to draw a line 38 miles long.\\n',\n",
       " '\\n43.\\nThere is a species of jellyfish that is immortal (turritopsis nutricula).\\n',\n",
       " '\\n44.\\nThe largest air force in the world is the US Air Force. The second largest air force in the world is the US Navy.\\n',\n",
       " '\\n45.\\nHorseshoe crabs have eyes on their tail.\\n',\n",
       " '\\n46.\\nA Nintendo had over twice the computing power of the first lunar lander.\\n',\n",
       " '\\n47.\\nLighters were invented before matches.\\n',\n",
       " '\\n48.\\nPsychology is the brain trying to comprehend itself.\\n',\n",
       " '\\n49.\\nIf a man never cut his beard, by the time he dies it would be 30 feet long.\\n',\n",
       " '\\n50.\\n1 sperm has 37.5MB of DNA information in it. That means a normal ejaculation represents a data transfer of 1587GB in about 3 seconds\\n',\n",
       " '\\n51.\\nThe population of Ireland is still 2 million less than it was before the potato famine, 160 years ago.\\n',\n",
       " \"\\n52.\\nThe last president that wasn't a Republican or Democrat was Millard Fillmore in 1853\\n\",\n",
       " '\\n53.\\nYou have 0.5% chance of being related to Genghis Khan.\\n',\n",
       " '\\n54.\\nThe USA is an older country than Germany.\\n',\n",
       " '\\n55.\\nNapoleon was not unusually short. The French inch was longer than the British inch, so while he was thought to be 5\\'2\" by most of the world, in reality he was closer to 5\\'7\", an average height for a Frenchman.\\n',\n",
       " '\\n56.\\nIf you keep going North, you will eventually go South. If you keep going East, you will never go West.\\n',\n",
       " '\\n57.\\nVending machines kill 4 times as many people as sharks.\\n',\n",
       " '\\n58.\\nThere is a garbage swirl in the ocean the size of Texas.\\n',\n",
       " '\\n59.\\nBlack HP printer ink costs roughly 1,400 times as much as crude oil, gallon for gallon.\\n',\n",
       " '\\n60.\\nGeorge Washington spent about 7% of his annual salary on booze.\\n',\n",
       " '\\n61.\\nA Mosquito has 47 teeth.\\n',\n",
       " \"\\n62.\\nA banana is actually a berry. A strawberry isn't.\\n\"]"
      ]
     },
     "execution_count": 19,
     "metadata": {},
     "output_type": "execute_result"
    }
   ],
   "source": [
    "table[:62]"
   ]
  },
  {
   "cell_type": "markdown",
   "metadata": {},
   "source": [
    "**Here we can see all of the 62 facts**"
   ]
  },
  {
   "cell_type": "code",
   "execution_count": 20,
   "metadata": {
    "collapsed": true
   },
   "outputs": [],
   "source": [
    "import pandas as pd\n",
    "df = pd.DataFrame(table, columns=['Interesting Facts'])"
   ]
  },
  {
   "cell_type": "code",
   "execution_count": 21,
   "metadata": {},
   "outputs": [
    {
     "data": {
      "text/html": [
       "<div>\n",
       "<style>\n",
       "    .dataframe thead tr:only-child th {\n",
       "        text-align: right;\n",
       "    }\n",
       "\n",
       "    .dataframe thead th {\n",
       "        text-align: left;\n",
       "    }\n",
       "\n",
       "    .dataframe tbody tr th {\n",
       "        vertical-align: top;\n",
       "    }\n",
       "</style>\n",
       "<table border=\"1\" class=\"dataframe\">\n",
       "  <thead>\n",
       "    <tr style=\"text-align: right;\">\n",
       "      <th></th>\n",
       "      <th>Interesting Facts</th>\n",
       "    </tr>\n",
       "  </thead>\n",
       "  <tbody>\n",
       "    <tr>\n",
       "      <th>0</th>\n",
       "      <td>\\n1.\\nThe bushes and clouds in Super Mario Bro...</td>\n",
       "    </tr>\n",
       "    <tr>\n",
       "      <th>1</th>\n",
       "      <td>\\n2.\\nThere are warehouses so big they have th...</td>\n",
       "    </tr>\n",
       "    <tr>\n",
       "      <th>2</th>\n",
       "      <td>\\n3.\\nIn 1903 the Wright brothers flew for 59 ...</td>\n",
       "    </tr>\n",
       "    <tr>\n",
       "      <th>3</th>\n",
       "      <td>\\n4.\\nWhen a male bee climaxes, their testicle...</td>\n",
       "    </tr>\n",
       "    <tr>\n",
       "      <th>4</th>\n",
       "      <td>\\n5.\\nCleopatra lived closer in time to the fi...</td>\n",
       "    </tr>\n",
       "    <tr>\n",
       "      <th>5</th>\n",
       "      <td>\\n6.\\nDuck Hunt is two player. A controller in...</td>\n",
       "    </tr>\n",
       "    <tr>\n",
       "      <th>6</th>\n",
       "      <td>\\n7.\\nThere are more fake flamingos in the wor...</td>\n",
       "    </tr>\n",
       "    <tr>\n",
       "      <th>7</th>\n",
       "      <td>\\n8.\\nThe adult human has two to nine pounds o...</td>\n",
       "    </tr>\n",
       "    <tr>\n",
       "      <th>8</th>\n",
       "      <td>\\n9.\\nBlue whales heart is the size of a VW Be...</td>\n",
       "    </tr>\n",
       "    <tr>\n",
       "      <th>9</th>\n",
       "      <td>\\n10.\\nHydrogen is a light, odorless gas, whic...</td>\n",
       "    </tr>\n",
       "    <tr>\n",
       "      <th>10</th>\n",
       "      <td>\\n11.\\nAll of the gold mined in the history of...</td>\n",
       "    </tr>\n",
       "    <tr>\n",
       "      <th>11</th>\n",
       "      <td>\\n12.\\nThere are more atoms in a single glass ...</td>\n",
       "    </tr>\n",
       "    <tr>\n",
       "      <th>12</th>\n",
       "      <td>\\n13.\\nHalf of all humans who have ever lived,...</td>\n",
       "    </tr>\n",
       "    <tr>\n",
       "      <th>13</th>\n",
       "      <td>\\n14.\\nMartin Sheen's original name was Ramon ...</td>\n",
       "    </tr>\n",
       "    <tr>\n",
       "      <th>14</th>\n",
       "      <td>\\n15.\\nAlcohol is considered a performance-enh...</td>\n",
       "    </tr>\n",
       "    <tr>\n",
       "      <th>15</th>\n",
       "      <td>\\n16.\\nOnce Charlie Chaplin entered a contest ...</td>\n",
       "    </tr>\n",
       "    <tr>\n",
       "      <th>16</th>\n",
       "      <td>\\n17.\\nIf you shuffle a deck of cards, chances...</td>\n",
       "    </tr>\n",
       "    <tr>\n",
       "      <th>17</th>\n",
       "      <td>\\n18.\\nOf all the people in history that have ...</td>\n",
       "    </tr>\n",
       "    <tr>\n",
       "      <th>18</th>\n",
       "      <td>\\n19.\\nFold over a piece of paper 42 times and...</td>\n",
       "    </tr>\n",
       "    <tr>\n",
       "      <th>19</th>\n",
       "      <td>\\n20.\\nPirates wear eye patches so that they c...</td>\n",
       "    </tr>\n",
       "    <tr>\n",
       "      <th>20</th>\n",
       "      <td>\\n21.\\nIt took thousands of years after domest...</td>\n",
       "    </tr>\n",
       "    <tr>\n",
       "      <th>21</th>\n",
       "      <td>\\n22.\\n54 million people alive right now will ...</td>\n",
       "    </tr>\n",
       "    <tr>\n",
       "      <th>22</th>\n",
       "      <td>\\n23.\\nYou replace every particle in your body...</td>\n",
       "    </tr>\n",
       "    <tr>\n",
       "      <th>23</th>\n",
       "      <td>\\n24.\\nWhen your mother was born, she was alre...</td>\n",
       "    </tr>\n",
       "    <tr>\n",
       "      <th>24</th>\n",
       "      <td>\\n25.\\nA tree is the opposite of your lungs. P...</td>\n",
       "    </tr>\n",
       "    <tr>\n",
       "      <th>25</th>\n",
       "      <td>\\n26.\\nMayonnaise is made from oil and eggs.\\n</td>\n",
       "    </tr>\n",
       "    <tr>\n",
       "      <th>26</th>\n",
       "      <td>\\n27.\\nThe sun is 400x further from the earth ...</td>\n",
       "    </tr>\n",
       "    <tr>\n",
       "      <th>27</th>\n",
       "      <td>\\n28.\\nAll the humans on the planet could fit ...</td>\n",
       "    </tr>\n",
       "    <tr>\n",
       "      <th>28</th>\n",
       "      <td>\\n29.\\nGoats have rectangular pupils.\\n</td>\n",
       "    </tr>\n",
       "    <tr>\n",
       "      <th>29</th>\n",
       "      <td>\\n30.\\nIf there was no space between any of it...</td>\n",
       "    </tr>\n",
       "    <tr>\n",
       "      <th>...</th>\n",
       "      <td>...</td>\n",
       "    </tr>\n",
       "    <tr>\n",
       "      <th>32</th>\n",
       "      <td>\\n33.\\nSloths mistakenly grab their arms inste...</td>\n",
       "    </tr>\n",
       "    <tr>\n",
       "      <th>33</th>\n",
       "      <td>\\n34.\\nPenguins will give their mate a pebble ...</td>\n",
       "    </tr>\n",
       "    <tr>\n",
       "      <th>34</th>\n",
       "      <td>\\n35.\\nButterflies are cannibals.\\n</td>\n",
       "    </tr>\n",
       "    <tr>\n",
       "      <th>35</th>\n",
       "      <td>\\n36.\\nTurtles can breathe out of their butts\\n</td>\n",
       "    </tr>\n",
       "    <tr>\n",
       "      <th>36</th>\n",
       "      <td>\\n37.\\nA small percentage of static on televis...</td>\n",
       "    </tr>\n",
       "    <tr>\n",
       "      <th>37</th>\n",
       "      <td>\\n38.\\nIt takes a photon, on average, 200,000 ...</td>\n",
       "    </tr>\n",
       "    <tr>\n",
       "      <th>38</th>\n",
       "      <td>\\n39.\\nBoth of Jack Black's parents were rocke...</td>\n",
       "    </tr>\n",
       "    <tr>\n",
       "      <th>39</th>\n",
       "      <td>\\n40.\\nA pigs orgasm lasts 30 minutes.\\n</td>\n",
       "    </tr>\n",
       "    <tr>\n",
       "      <th>40</th>\n",
       "      <td>\\n41.\\nVelociraptors were just slightly bigger...</td>\n",
       "    </tr>\n",
       "    <tr>\n",
       "      <th>41</th>\n",
       "      <td>\\n42.\\nA pencil has the potential to draw a li...</td>\n",
       "    </tr>\n",
       "    <tr>\n",
       "      <th>42</th>\n",
       "      <td>\\n43.\\nThere is a species of jellyfish that is...</td>\n",
       "    </tr>\n",
       "    <tr>\n",
       "      <th>43</th>\n",
       "      <td>\\n44.\\nThe largest air force in the world is t...</td>\n",
       "    </tr>\n",
       "    <tr>\n",
       "      <th>44</th>\n",
       "      <td>\\n45.\\nHorseshoe crabs have eyes on their tail.\\n</td>\n",
       "    </tr>\n",
       "    <tr>\n",
       "      <th>45</th>\n",
       "      <td>\\n46.\\nA Nintendo had over twice the computing...</td>\n",
       "    </tr>\n",
       "    <tr>\n",
       "      <th>46</th>\n",
       "      <td>\\n47.\\nLighters were invented before matches.\\n</td>\n",
       "    </tr>\n",
       "    <tr>\n",
       "      <th>47</th>\n",
       "      <td>\\n48.\\nPsychology is the brain trying to compr...</td>\n",
       "    </tr>\n",
       "    <tr>\n",
       "      <th>48</th>\n",
       "      <td>\\n49.\\nIf a man never cut his beard, by the ti...</td>\n",
       "    </tr>\n",
       "    <tr>\n",
       "      <th>49</th>\n",
       "      <td>\\n50.\\n1 sperm has 37.5MB of DNA information i...</td>\n",
       "    </tr>\n",
       "    <tr>\n",
       "      <th>50</th>\n",
       "      <td>\\n51.\\nThe population of Ireland is still 2 mi...</td>\n",
       "    </tr>\n",
       "    <tr>\n",
       "      <th>51</th>\n",
       "      <td>\\n52.\\nThe last president that wasn't a Republ...</td>\n",
       "    </tr>\n",
       "    <tr>\n",
       "      <th>52</th>\n",
       "      <td>\\n53.\\nYou have 0.5% chance of being related t...</td>\n",
       "    </tr>\n",
       "    <tr>\n",
       "      <th>53</th>\n",
       "      <td>\\n54.\\nThe USA is an older country than German...</td>\n",
       "    </tr>\n",
       "    <tr>\n",
       "      <th>54</th>\n",
       "      <td>\\n55.\\nNapoleon was not unusually short. The F...</td>\n",
       "    </tr>\n",
       "    <tr>\n",
       "      <th>55</th>\n",
       "      <td>\\n56.\\nIf you keep going North, you will event...</td>\n",
       "    </tr>\n",
       "    <tr>\n",
       "      <th>56</th>\n",
       "      <td>\\n57.\\nVending machines kill 4 times as many p...</td>\n",
       "    </tr>\n",
       "    <tr>\n",
       "      <th>57</th>\n",
       "      <td>\\n58.\\nThere is a garbage swirl in the ocean t...</td>\n",
       "    </tr>\n",
       "    <tr>\n",
       "      <th>58</th>\n",
       "      <td>\\n59.\\nBlack HP printer ink costs roughly 1,40...</td>\n",
       "    </tr>\n",
       "    <tr>\n",
       "      <th>59</th>\n",
       "      <td>\\n60.\\nGeorge Washington spent about 7% of his...</td>\n",
       "    </tr>\n",
       "    <tr>\n",
       "      <th>60</th>\n",
       "      <td>\\n61.\\nA Mosquito has 47 teeth.\\n</td>\n",
       "    </tr>\n",
       "    <tr>\n",
       "      <th>61</th>\n",
       "      <td>\\n62.\\nA banana is actually a berry. A strawbe...</td>\n",
       "    </tr>\n",
       "  </tbody>\n",
       "</table>\n",
       "<p>62 rows × 1 columns</p>\n",
       "</div>"
      ],
      "text/plain": [
       "                                    Interesting Facts\n",
       "0   \\n1.\\nThe bushes and clouds in Super Mario Bro...\n",
       "1   \\n2.\\nThere are warehouses so big they have th...\n",
       "2   \\n3.\\nIn 1903 the Wright brothers flew for 59 ...\n",
       "3   \\n4.\\nWhen a male bee climaxes, their testicle...\n",
       "4   \\n5.\\nCleopatra lived closer in time to the fi...\n",
       "5   \\n6.\\nDuck Hunt is two player. A controller in...\n",
       "6   \\n7.\\nThere are more fake flamingos in the wor...\n",
       "7   \\n8.\\nThe adult human has two to nine pounds o...\n",
       "8   \\n9.\\nBlue whales heart is the size of a VW Be...\n",
       "9   \\n10.\\nHydrogen is a light, odorless gas, whic...\n",
       "10  \\n11.\\nAll of the gold mined in the history of...\n",
       "11  \\n12.\\nThere are more atoms in a single glass ...\n",
       "12  \\n13.\\nHalf of all humans who have ever lived,...\n",
       "13  \\n14.\\nMartin Sheen's original name was Ramon ...\n",
       "14  \\n15.\\nAlcohol is considered a performance-enh...\n",
       "15  \\n16.\\nOnce Charlie Chaplin entered a contest ...\n",
       "16  \\n17.\\nIf you shuffle a deck of cards, chances...\n",
       "17  \\n18.\\nOf all the people in history that have ...\n",
       "18  \\n19.\\nFold over a piece of paper 42 times and...\n",
       "19  \\n20.\\nPirates wear eye patches so that they c...\n",
       "20  \\n21.\\nIt took thousands of years after domest...\n",
       "21  \\n22.\\n54 million people alive right now will ...\n",
       "22  \\n23.\\nYou replace every particle in your body...\n",
       "23  \\n24.\\nWhen your mother was born, she was alre...\n",
       "24  \\n25.\\nA tree is the opposite of your lungs. P...\n",
       "25     \\n26.\\nMayonnaise is made from oil and eggs.\\n\n",
       "26  \\n27.\\nThe sun is 400x further from the earth ...\n",
       "27  \\n28.\\nAll the humans on the planet could fit ...\n",
       "28            \\n29.\\nGoats have rectangular pupils.\\n\n",
       "29  \\n30.\\nIf there was no space between any of it...\n",
       "..                                                ...\n",
       "32  \\n33.\\nSloths mistakenly grab their arms inste...\n",
       "33  \\n34.\\nPenguins will give their mate a pebble ...\n",
       "34                \\n35.\\nButterflies are cannibals.\\n\n",
       "35    \\n36.\\nTurtles can breathe out of their butts\\n\n",
       "36  \\n37.\\nA small percentage of static on televis...\n",
       "37  \\n38.\\nIt takes a photon, on average, 200,000 ...\n",
       "38  \\n39.\\nBoth of Jack Black's parents were rocke...\n",
       "39           \\n40.\\nA pigs orgasm lasts 30 minutes.\\n\n",
       "40  \\n41.\\nVelociraptors were just slightly bigger...\n",
       "41  \\n42.\\nA pencil has the potential to draw a li...\n",
       "42  \\n43.\\nThere is a species of jellyfish that is...\n",
       "43  \\n44.\\nThe largest air force in the world is t...\n",
       "44  \\n45.\\nHorseshoe crabs have eyes on their tail.\\n\n",
       "45  \\n46.\\nA Nintendo had over twice the computing...\n",
       "46    \\n47.\\nLighters were invented before matches.\\n\n",
       "47  \\n48.\\nPsychology is the brain trying to compr...\n",
       "48  \\n49.\\nIf a man never cut his beard, by the ti...\n",
       "49  \\n50.\\n1 sperm has 37.5MB of DNA information i...\n",
       "50  \\n51.\\nThe population of Ireland is still 2 mi...\n",
       "51  \\n52.\\nThe last president that wasn't a Republ...\n",
       "52  \\n53.\\nYou have 0.5% chance of being related t...\n",
       "53  \\n54.\\nThe USA is an older country than German...\n",
       "54  \\n55.\\nNapoleon was not unusually short. The F...\n",
       "55  \\n56.\\nIf you keep going North, you will event...\n",
       "56  \\n57.\\nVending machines kill 4 times as many p...\n",
       "57  \\n58.\\nThere is a garbage swirl in the ocean t...\n",
       "58  \\n59.\\nBlack HP printer ink costs roughly 1,40...\n",
       "59  \\n60.\\nGeorge Washington spent about 7% of his...\n",
       "60                  \\n61.\\nA Mosquito has 47 teeth.\\n\n",
       "61  \\n62.\\nA banana is actually a berry. A strawbe...\n",
       "\n",
       "[62 rows x 1 columns]"
      ]
     },
     "execution_count": 21,
     "metadata": {},
     "output_type": "execute_result"
    }
   ],
   "source": [
    "df"
   ]
  },
  {
   "cell_type": "markdown",
   "metadata": {},
   "source": [
    "**Now that we have all our facts in a table, it is much more pleasant to look at and much easier for us to locate each fact**"
   ]
  },
  {
   "cell_type": "code",
   "execution_count": null,
   "metadata": {
    "collapsed": true
   },
   "outputs": [],
   "source": []
  }
 ],
 "metadata": {
  "kernelspec": {
   "display_name": "Python 3",
   "language": "python",
   "name": "python3"
  },
  "language_info": {
   "codemirror_mode": {
    "name": "ipython",
    "version": 3
   },
   "file_extension": ".py",
   "mimetype": "text/x-python",
   "name": "python",
   "nbconvert_exporter": "python",
   "pygments_lexer": "ipython3",
   "version": "3.6.3"
  }
 },
 "nbformat": 4,
 "nbformat_minor": 2
}
